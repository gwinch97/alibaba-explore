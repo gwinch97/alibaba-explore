{
 "cells": [
  {
   "cell_type": "code",
   "execution_count": 29,
   "id": "3d884f02a537fba5",
   "metadata": {
    "collapsed": false,
    "ExecuteTime": {
     "end_time": "2024-05-09T15:47:00.745815Z",
     "start_time": "2024-05-09T15:47:00.720814Z"
    }
   },
   "outputs": [
    {
     "name": "stdout",
     "output_type": "stream",
     "text": [
      "    service                                    sorted_patterns  \\\n",
      "0  Service1  (((USER, MS_43950), (USER, MS_57575)), ((UNKNO...   \n",
      "1  Service2           (((GUEST, MS_43960), (USER, MS_42980)),)   \n",
      "\n",
      "                                     unique_patterns  \n",
      "0  {((UNKNOWN, MS_43940), (USER, MS_37575)), ((US...  \n",
      "1            {((GUEST, MS_43960), (USER, MS_42980))}  \n"
     ]
    }
   ],
   "source": [
    "import pandas as pd\n",
    "\n",
    "# Creating sample data\n",
    "data = {\n",
    "    'service': ['Service1', 'Service2', 'Service1', 'Service2', 'Service1', 'Service1'],\n",
    "    'traceid': [1, 2, 1, 2, 3, 3],\n",
    "    'um': ['USER', 'USER', 'USER', 'GUEST', 'USER', 'UNKNOWN'],\n",
    "    'dm': ['MS_57575', 'MS_42980', 'MS_43950', 'MS_43960', 'MS_37575', 'MS_43940']\n",
    "}\n",
    "\n",
    "# Creating DataFrame\n",
    "MSCallGraph = pd.DataFrame(data)\n",
    "\n",
    "# Creating call patterns as tuples from 'um' and 'dm'\n",
    "MSCallGraph['call_pattern'] = list(zip(MSCallGraph['um'], MSCallGraph['dm']))\n",
    "\n",
    "# Grouping by 'service' and 'traceid' and aggregating 'call_pattern'\n",
    "grouped = MSCallGraph.groupby(['service', 'traceid'])['call_pattern'].apply(list).reset_index()\n",
    "\n",
    "# Further grouping by 'service' and aggregating call patterns into lists\n",
    "service_call_patterns = grouped.groupby('service')['call_pattern'].apply(list).reset_index(name='pattern_list')\n",
    "\n",
    "# Sorting the patterns\n",
    "# service_call_patterns['sorted_patterns'] = service_call_patterns['pattern_list'].apply(\n",
    "#     lambda x: tuple(sorted(tuple(sub) for sub in y for y in x))\n",
    "# )\n",
    "service_call_patterns['sorted_patterns'] = service_call_patterns['pattern_list'].apply(lambda x: tuple([tuple(sorted(tuple(y))) for y in x]))\n",
    "\n",
    "# Removing duplicates and creating a unique set of patterns\n",
    "service_call_patterns['unique_patterns'] = service_call_patterns['sorted_patterns'].apply(set)\n",
    "\n",
    "# Display the DataFrame\n",
    "print(service_call_patterns[['service', 'sorted_patterns', 'unique_patterns']])"
   ]
  },
  {
   "cell_type": "code",
   "outputs": [],
   "source": [
    "z = service_call_patterns.loc[service_call_patterns['service'] == \"Service1\"][\"pattern_list\"]"
   ],
   "metadata": {
    "collapsed": true,
    "ExecuteTime": {
     "end_time": "2024-05-09T15:43:41.674202Z",
     "start_time": "2024-05-09T15:43:41.667201Z"
    }
   },
   "id": "initial_id",
   "execution_count": 24
  },
  {
   "cell_type": "code",
   "outputs": [
    {
     "data": {
      "text/plain": "((('USER', 'MS_37575'), ('USER', 'MS_43950')),\n (('UNKNOWN', 'MS_43940'), ('USER', 'MS_37575')))"
     },
     "execution_count": 26,
     "metadata": {},
     "output_type": "execute_result"
    }
   ],
   "source": [
    "pattern = []\n",
    "for x in z:\n",
    "    for y in x:\n",
    "        pattern.append(tuple(sorted(tuple(y))))\n",
    "    pattern = tuple(pattern)\n",
    "pattern"
   ],
   "metadata": {
    "collapsed": false,
    "ExecuteTime": {
     "end_time": "2024-05-09T15:44:07.830367Z",
     "start_time": "2024-05-09T15:44:07.810369Z"
    }
   },
   "id": "560cf23a60c44535",
   "execution_count": 26
  },
  {
   "cell_type": "code",
   "outputs": [],
   "source": [
    "z = service_call_patterns.loc[service_call_patterns['service'] == \"Service2\"][\"pattern_list\"]"
   ],
   "metadata": {
    "collapsed": false,
    "ExecuteTime": {
     "end_time": "2024-05-09T15:32:33.029712Z",
     "start_time": "2024-05-09T15:32:33.025712Z"
    }
   },
   "id": "4ba9fe906694bb21",
   "execution_count": 15
  },
  {
   "cell_type": "code",
   "outputs": [
    {
     "name": "stdout",
     "output_type": "stream",
     "text": [
      "[('USER', 'MS_42940'), ('GUEST', 'MS_43960')]\n",
      "(('GUEST', 'MS_43960'), ('USER', 'MS_42940'))\n"
     ]
    }
   ],
   "source": [
    "for x in z:\n",
    "    for y in x:\n",
    "        print(y)\n",
    "        print(tuple(sorted(tuple(y))))"
   ],
   "metadata": {
    "collapsed": false,
    "ExecuteTime": {
     "end_time": "2024-05-09T15:32:33.233117Z",
     "start_time": "2024-05-09T15:32:33.219111Z"
    }
   },
   "id": "6882ccb4a2a37983",
   "execution_count": 16
  },
  {
   "cell_type": "code",
   "outputs": [],
   "source": [],
   "metadata": {
    "collapsed": false
   },
   "id": "bfe5a95aeec0e10a"
  }
 ],
 "metadata": {
  "kernelspec": {
   "display_name": "Python 3",
   "language": "python",
   "name": "python3"
  },
  "language_info": {
   "codemirror_mode": {
    "name": "ipython",
    "version": 2
   },
   "file_extension": ".py",
   "mimetype": "text/x-python",
   "name": "python",
   "nbconvert_exporter": "python",
   "pygments_lexer": "ipython2",
   "version": "2.7.6"
  }
 },
 "nbformat": 4,
 "nbformat_minor": 5
}
